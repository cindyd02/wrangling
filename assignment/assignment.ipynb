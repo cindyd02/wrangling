{
  "cells": [
    {
      "cell_type": "markdown",
      "id": "13ad028b-72b7-43ed-aa78-96fd4e518040",
      "metadata": {
        "id": "13ad028b-72b7-43ed-aa78-96fd4e518040"
      },
      "source": [
        "# Assignment: Data Wrangling\n",
        "## `! git clone https://github.com/DS3001/wrangling`\n",
        "## Do Q2, and one of Q1 or Q3."
      ]
    },
    {
      "attachments": {},
      "cell_type": "markdown",
      "id": "5735a4d4-8be8-433a-a351-70eb8002e632",
      "metadata": {
        "id": "5735a4d4-8be8-433a-a351-70eb8002e632"
      },
      "source": [
        "**Q1.** Open the \"tidy_data.pdf\" document in the repo, which is a paper called Tidy Data by Hadley Wickham.\n",
        "\n",
        "  1. Read the abstract. What is this paper about? \n",
        "  > From the abstract, this paper is about data tidying, an important component of data cleaning.\n",
        "\n",
        "  2. Read the introduction. What is the \"tidy data standard\" intended to accomplish?\n",
        "  > A standard would make the intial data cleaning easier as one doesn't have to start from scratch. So a tidy data standard is to help make data analysis easier and more efficient by establishing a standard way to organize data values in a dataset. \n",
        "\n",
        "  3. Read the intro to section 2. What does this sentence mean: \"Like families, tidy datasets are all alike but every messy dataset is messy in its own way.\" What does this sentence mean: \"For a given dataset, it’s usually easy to figure out what are observations and what are variables, but it is surprisingly difficult to precisely define variables and observations in general.\"\n",
        "\n",
        "  > The first sentence means that a tidy datatset follow a consistent structure, making them similar to each other. However, a messy dataset can have a variety of inconsistencies, making each one unique in its own way.\n",
        "  > The second sentence means that it is easy to identify observations (rows) and variables (column) in a specific dataset. However, defining these concepts all around if tricky.\n",
        "\n",
        "  4. Read Section 2.2. How does Wickham define values, variables, and observations?\n",
        "  > Values: numbers (quantitative) or strings (qualitative). Values are organized in two ways. Every value belongs to a variable, which contains all values that measure the same underlying attribute across units (ex. height, temperature, money), and observations, which contains all values measured on the same unit (ex. person, day, race).\n",
        "\n",
        "  5. How is \"Tidy Data\" defined in section 2.3?\n",
        "  - Each variable forms a column\n",
        "  - Each observation forms a row\n",
        "  - Each type of observational unit forms a table\n",
        "\n",
        "  6. Read the intro to Section 3 and Section 3.1. What are the 5 most common problems with messy datasets? Why are the data in Table 4 messy? What is \"melting\" a dataset?\n",
        " > The 5 most common problems with a messy dataset are:\n",
        "  - Column headers are values, not variable names\n",
        "  - Multiple variables are stored in one column\n",
        "  - Variables are stored in both rows and columns\n",
        "  - Multiple types of observational units are stored in the same table\n",
        "  - A single observational unit is stored in multiple tables.\n",
        "> The data in Table 4 is messy because the incomes are used as column headers instead of being values in a single column. Should be 'religion', a new column called'income', and 'frequency.' Melting a dataset is essentially turning column values into rows. \n",
        "\n",
        "  7. Why, specifically, is table 11 messy but table 12 tidy and \"molten\"?\n",
        "  > Table 11 is messy because there is column for each possible day in the month, some days/months do not have value and is left blank. However table 12 melts all the days into a single variable 'date'. The missing values are dropped to conserve space and each row represents the meterological measurements for a single day.\n",
        "\n",
        "  8. Read Section 6. What is the \"chicken-and-egg\" problem with focusing on tidy data? What does Wickham hope happens in the future with further work on the subject of data wrangling?\n",
        "  > The “chicken-and-egg” problem with tidy data is about whether to clean and organize data before analysis or to analyze messy data and tidy it as needed. Hadley Wickham hopes future work will create better tools and practices for efficient data tidying, making it easier for data scientists to work with data seamlessly across different programming languages."
      ]
    },
    {
      "cell_type": "markdown",
      "id": "da879ea7-8aac-48a3-b6c2-daea56d2e072",
      "metadata": {
        "id": "da879ea7-8aac-48a3-b6c2-daea56d2e072"
      },
      "source": [
        "**Q2.** This question provides some practice cleaning variables which have common problems.\n",
        "1. Numeric variable: For `./data/airbnb_hw.csv`, clean the `Price` variable as well as you can, and explain the choices you make. How many missing values do you end up with? (Hint: What happens to the formatting when a price goes over 999 dollars, say from 675 to 1,112?)\n",
        "2. Categorical variable: For the `./data/sharks.csv` data covered in the lecture, clean the \"Type\" variable as well as you can, and explain the choices you make.\n",
        "3. Dummy variable: For the pretrial data covered in the lecture, clean the `WhetherDefendantWasReleasedPretrial` variable as well as you can, and, in particular, replace missing values with `np.nan`.\n",
        "4. Missing values, not at random: For the pretrial data covered in the lecture, clean the `ImposedSentenceAllChargeInContactEvent` variable as well as you can, and explain the choices you make. (Hint: Look at the `SentenceTypeAllChargesAtConvictionInContactEvent` variable.)"
      ]
    },
    {
      "cell_type": "code",
      "execution_count": 5,
      "id": "0b8a7841",
      "metadata": {},
      "outputs": [
        {
          "name": "stdout",
          "output_type": "stream",
          "text": [
            "Number of missing values in Price: 0\n"
          ]
        }
      ],
      "source": [
        "import pandas as pd\n",
        "\n",
        "\n",
        "#1\n",
        "airbnb_data = pd.read_csv('./data/airbnb_hw.csv')\n",
        "#print(airbnb_data['Price'].head())\n",
        "airbnb_data['Price'] = airbnb_data['Price'].replace('[\\,]', '', regex=True).astype(float)\n",
        "missing_values = airbnb_data['Price'].isnull().sum()\n",
        "print(f\"Number of missing values in Price: {missing_values}\")\n",
        "\n",
        "# Choices made: removed commas to ensure the values can be converted to numeric and converted\n",
        "# the Price column to a float type"
      ]
    },
    {
      "cell_type": "code",
      "execution_count": 15,
      "id": "81e95930",
      "metadata": {},
      "outputs": [
        {
          "name": "stdout",
          "output_type": "stream",
          "text": [
            "Initial value counts:\n",
            "Type\n",
            "Unprovoked             4716\n",
            "Provoked                593\n",
            "Invalid                 552\n",
            "Sea Disaster            239\n",
            "Watercraft              142\n",
            "Boat                    109\n",
            "Boating                  92\n",
            "Questionable             10\n",
            "Unconfirmed               1\n",
            "Unverified                1\n",
            "Under investigation       1\n",
            "Boatomg                   1\n",
            "Name: count, dtype: int64\n",
            "Cleaned value counts:\n",
            "Type\n",
            "Unprovoked    4716\n",
            "Provoked       593\n",
            "Watercraft     583\n",
            "Name: count, dtype: int64\n"
          ]
        }
      ],
      "source": [
        "import numpy as np\n",
        "\n",
        "df = pd.read_csv('./data/sharks.csv', low_memory=False)\n",
        "\n",
        "\n",
        "print(\"Initial value counts:\")\n",
        "print(df['Type'].value_counts())\n",
        "\n",
        "df['Type'] = df['Type'].replace(\n",
        "    ['Sea Disaster', 'Boat', 'Boating', 'Boatomg'], 'Watercraft'\n",
        ").replace(\n",
        "    ['Invalid', 'Questionable', 'Unconfirmed', 'Unverified', 'Under investigation'], np.nan\n",
        ")\n",
        "\n",
        "print(\"Cleaned value counts:\")\n",
        "print(df['Type'].value_counts())\n",
        "\n",
        "# Choices made: standarizes similar categories into single term \"Watercraft\"\n",
        "#Replaced invalid or questionable entries with np.nan to handle missing values"
      ]
    },
    {
      "cell_type": "code",
      "execution_count": 34,
      "metadata": {},
      "outputs": [
        {
          "name": "stdout",
          "output_type": "stream",
          "text": [
            "WhetherDefendantWasReleasedPretrial\n",
            "1.0    19154\n",
            "0.0     3801\n",
            "Name: count, dtype: int64 \n",
            "\n"
          ]
        }
      ],
      "source": [
        "\n",
        "df = pd.read_parquet('./data/justice_data.parquet')\n",
        "release = df['WhetherDefendantWasReleasedPretrial']\n",
        "# replace missing values with np.nan\n",
        "release = release.replace(9,np.nan) \n",
        "print(release.value_counts(),'\\n')\n",
        "sum(release.isnull()) \n",
        "df['WhetherDefendantWasReleasedPretrial'] = release\n",
        "del release\n"
      ]
    },
    {
      "cell_type": "code",
      "execution_count": 35,
      "id": "eb509342",
      "metadata": {},
      "outputs": [
        {
          "name": "stdout",
          "output_type": "stream",
          "text": [
            "9053 \n",
            "\n",
            "SentenceTypeAllChargesAtConvictionInContactEvent     0     1    2     4    9\n",
            "ImposedSentenceAllChargeInContactEvent                                      \n",
            "False                                             8720  4299  914     0    0\n",
            "True                                                 0     0    0  8779  274 \n",
            "\n",
            "SentenceTypeAllChargesAtConvictionInContactEvent     0     1    2     4    9\n",
            "ImposedSentenceAllChargeInContactEvent                                      \n",
            "False                                             8720  4299  914  8779    0\n",
            "True                                                 0     0    0     0  274 \n",
            "\n",
            "274 \n",
            "\n"
          ]
        }
      ],
      "source": [
        "imposed = df['ImposedSentenceAllChargeInContactEvent'] \n",
        "type = df['SentenceTypeAllChargesAtConvictionInContactEvent']\n",
        "\n",
        "imposed = pd.to_numeric(imposed, errors='coerce')\n",
        "sentence_na = imposed.isnull()\n",
        "print(np.sum(sentence_na),'\\n') \n",
        "\n",
        "print(pd.crosstab(sentence_na, type),'\\n')\n",
        "imposed = imposed.mask(type==4, 0)\n",
        "imposed = imposed.mask(type==9, np.nan)\n",
        "\n",
        "sentence_na = imposed.isnull()\n",
        "print(pd.crosstab(sentence_na, type), '\\n')\n",
        "print(np.sum(sentence_na),'\\n')\n",
        "\n",
        "df['ImposedSentenceAllChargeInContactEvent'] = imposed\n",
        "del imposed, type"
      ]
    },
    {
      "cell_type": "markdown",
      "id": "649494cd-cfd6-4f80-992a-9994fc19e1d5",
      "metadata": {
        "id": "649494cd-cfd6-4f80-992a-9994fc19e1d5"
      },
      "source": [
        "**Q3.** Many important datasets contain a race variable, typically limited to a handful of values often including Black, White, Asian, Latino, and Indigenous. This question looks at data gathering efforts on this variable by the U.S. Federal government.\n",
        "\n",
        "1. How did the most recent US Census gather data on race?\n",
        "2. Why do we gather these data? What role do these kinds of data play in politics and society? Why does data quality matter?\n",
        "3. Please provide a constructive criticism of how the Census was conducted: What was done well? What do you think was missing? How should future large scale surveys be adjusted to best reflect the diversity of the population? Could some of the Census' good practices be adopted more widely to gather richer and more useful data?\n",
        "4. How did the Census gather data on sex and gender? Please provide a similar constructive criticism of their practices.\n",
        "5. When it comes to cleaning data, what concerns do you have about protected characteristics like sex, gender, sexual identity, or race? What challenges can you imagine arising when there are missing values? What good or bad practices might people adopt, and why?\n",
        "6. Suppose someone invented an algorithm to impute values for protected characteristics like race, gender, sex, or sexuality. What kinds of concerns would you have?"
      ]
    }
  ],
  "metadata": {
    "colab": {
      "provenance": []
    },
    "kernelspec": {
      "display_name": "Python 3 (ipykernel)",
      "language": "python",
      "name": "python3"
    },
    "language_info": {
      "codemirror_mode": {
        "name": "ipython",
        "version": 3
      },
      "file_extension": ".py",
      "mimetype": "text/x-python",
      "name": "python",
      "nbconvert_exporter": "python",
      "pygments_lexer": "ipython3",
      "version": "3.10.6"
    }
  },
  "nbformat": 4,
  "nbformat_minor": 5
}
